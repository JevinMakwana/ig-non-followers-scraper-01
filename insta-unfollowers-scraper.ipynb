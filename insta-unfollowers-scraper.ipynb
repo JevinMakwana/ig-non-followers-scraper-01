{
 "cells": [
  {
   "cell_type": "code",
   "execution_count": 62,
   "metadata": {},
   "outputs": [],
   "source": [
    "from selenium.webdriver.common.by import By\n",
    "from selenium import webdriver\n",
    "from time import sleep\n",
    "from getpass import getpass"
   ]
  },
  {
   "cell_type": "code",
   "execution_count": 111,
   "metadata": {},
   "outputs": [],
   "source": [
    "def find_this(xpath):\n",
    "    return browser.find_element('xpath', xpath)"
   ]
  },
  {
   "cell_type": "code",
   "execution_count": 105,
   "metadata": {},
   "outputs": [],
   "source": [
    "class IgNotFollowingBack:\n",
    "    def __init__(self, username, password):\n",
    "        self.driver = webdriver.Chrome()\n",
    "        browser = self.driver\n",
    "        # self.username = username\n",
    "        browser.get(\"https://www.instagram.com/\")\n",
    "        sleep(1)\n",
    "        username_element = browser.find_element('xpath', '//*[@id=\"loginForm\"]/div/div[1]/div/label/input')\n",
    "        username_element.send_keys(username)\n",
    "        \n",
    "        password_element = browser.find_element('xpath', '//*[@id=\"loginForm\"]/div/div[2]/div/label/input')\n",
    "        password_element.send_keys(password)\n",
    "        \n",
    "        login_btn = browser.find_element('xpath', '//*[@id=\"loginForm\"]/div/div[3]/button')\n",
    "        login_btn.click()\n",
    "        sleep(13)\n",
    "        print(\"01\")\n",
    "        save_login_info = browser.find_element('xpath', '/html/body/div[2]/div/div/div[2]/div/div/div[1]/div[1]/div[2]/section/main/div/div/div/div/div')\n",
    "        save_login_info.click() #click on 'not now'\n",
    "        sleep(7)\n",
    "        not_now_btn = browser.find_element('xpath', '/html/body/div[3]/div[1]/div/div[2]/div/div/div/div/div[2]/div/div/div[3]/button[2]')\n",
    "        not_now_btn.click() # click on 'not now' for notifications\n",
    "        sleep(3)\n",
    "        search_btn = browser.find_element('xpath', '/html/body/div[2]/div/div/div[2]/div/div/div[1]/div[1]/div[1]/div/div/div/div/div[2]/div[2]/span/div/a/div')\n",
    "        search_btn.click()\n",
    "        sleep(3)\n",
    "        search_bar = browser.find_element('xpath', '/html/body/div[2]/div/div/div[2]/div/div/div[1]/div[1]/div[1]/div/div/div[2]/div/div/div[2]/div/div/div[1]/div/div/input')\n",
    "        search_bar.click()\n",
    "        sleep(3)\n",
    "        search_bar.send_keys(\"flipzon_2021\")\n",
    "        sleep(10)\n",
    "        first_search_res = browser.find_element('xpath', '/html/body/div[2]/div/div/div[2]/div/div/div[1]/div[1]/div[1]/div/div/div[2]/div/div/div[2]/div/div/div[2]/div/a[1]/div[1]/div/div')\n",
    "        first_search_res.click()\n",
    "        sleep(10)\n",
    "        \n",
    "        # operations on Followings\n",
    "        following_btn = browser.find_element('xpath', '/html/body/div[2]/div/div/div[2]/div/div/div[1]/div[1]/div[2]/div[2]/section/main/div/header/section/ul/li[3]/a')\n",
    "        following_btn.click()\n",
    "        sleep(15)\n",
    "        \n",
    "        scroll_box = browser.find_element('xpath', '/html/body/div[7]/div[1]/div/div[2]/div/div/div/div/div[2]/div/div/div[4]')\n",
    "        scroll_box.click()\n",
    "        sleep(5)\n",
    "        \n",
    "        last_height, cur_height = 0, 1\n",
    "        acc_following = set()\n",
    "        while last_height != cur_height:\n",
    "            last_height = cur_height\n",
    "            sleep(0.5) \n",
    "            cur_height = browser.execute_script(\"\"\"\n",
    "            arguments[0].scrollTop = arguments[0].scrollHeight;\n",
    "            return arguments[0].scrollHeight;\n",
    "            \"\"\", scroll_box)\n",
    "            new_links = scroll_box.find_elements(By.TAG_NAME, 'a')\n",
    "            acc_following.update(link.text for link in new_links if link.text != '')\n",
    "        print(acc_following)\n",
    "        \n",
    "        \n",
    "        # operations on Followers\n",
    "        followers_btn = browser.find_element('xpath', '/html/body/div[2]/div/div/div[2]/div/div/div[1]/div[1]/div[2]/div[2]/section/main/div/header/section/ul/li[2]/a')\n",
    "        followers_btn.click()\n",
    "        \n",
    "        followers_scroll_box = browser.find_element('xpath', '/html/body/div[7]/div[1]/div/div[2]/div/div/div/div/div[2]/div/div/div[3]')\n",
    "        sleep(1)\n",
    "        \n",
    "        last_height, cur_height =0, 1\n",
    "        acc_followers = set()\n",
    "        while last_height != cur_height:\n",
    "            last_height = cur_height\n",
    "            sleep(0.5) \n",
    "            cur_height = browser.execute_script(\"\"\"\n",
    "            arguments[0].scrollTop = arguments[0].scrollHeight;\n",
    "            return arguments[0].scrollHeight;\n",
    "            \"\"\", followers_scroll_box)\n",
    "            new_links = followers_scroll_box.find_elements(By.TAG_NAME, 'a')\n",
    "            acc_followers.update(link.text for link in new_links if link.text != '')\n",
    "        \n",
    "        acc_not_following_back = acc_following - acc_followers\n",
    "        return acc_not_following_back\n",
    "        "
   ]
  },
  {
   "cell_type": "code",
   "execution_count": null,
   "metadata": {},
   "outputs": [],
   "source": [
    "ig_id = input(\"Ig username: \")\n",
    "ig_pass = getpass(\"password: \")\n",
    "\n",
    "not_following_backs = IgNotFollowingBack(ig_id, ig_pass)"
   ]
  },
  {
   "cell_type": "markdown",
   "metadata": {},
   "source": [
    "## code without class implementation"
   ]
  },
  {
   "cell_type": "code",
   "execution_count": 118,
   "metadata": {},
   "outputs": [],
   "source": [
    "browser = webdriver.Chrome()\n",
    "browser.get(\"https://www.instagram.com/\")"
   ]
  },
  {
   "cell_type": "code",
   "execution_count": 115,
   "metadata": {},
   "outputs": [],
   "source": [
    "username = input(\"Ig username: \")\n",
    "password = getpass(\"password: \")\n"
   ]
  },
  {
   "cell_type": "code",
   "execution_count": 119,
   "metadata": {},
   "outputs": [
    {
     "name": "stdout",
     "output_type": "stream",
     "text": [
      "01\n"
     ]
    }
   ],
   "source": [
    "sleep(1)\n",
    "username_element = browser.find_element('xpath', '//*[@id=\"loginForm\"]/div/div[1]/div/label/input')\n",
    "username_element.send_keys(username)\n",
    "\n",
    "password_element = browser.find_element('xpath', '//*[@id=\"loginForm\"]/div/div[2]/div/label/input')\n",
    "password_element.send_keys(password)\n",
    "\n",
    "login_btn = browser.find_element('xpath', '//*[@id=\"loginForm\"]/div/div[3]/button')\n",
    "login_btn.click()\n",
    "sleep(13)\n",
    "print(\"01\")\n",
    "save_login_info = browser.find_element('xpath', '/html/body/div[2]/div/div/div[2]/div/div/div[1]/div[1]/div[2]/section/main/div/div/div/div/div')\n",
    "save_login_info.click() #click on 'not now'\n",
    "sleep(7)\n",
    "not_now_btn = browser.find_element('xpath', '/html/body/div[3]/div[1]/div/div[2]/div/div/div/div/div[2]/div/div/div[3]/button[2]')\n",
    "not_now_btn.click() # click on 'not now' for notifications\n",
    "sleep(3)\n",
    "search_btn = browser.find_element('xpath', '/html/body/div[2]/div/div/div[2]/div/div/div[1]/div[1]/div[1]/div/div/div/div/div[2]/div[2]/span/div/a/div')\n",
    "search_btn.click()\n",
    "sleep(3)\n",
    "search_bar = browser.find_element('xpath', '/html/body/div[2]/div/div/div[2]/div/div/div[1]/div[1]/div[1]/div/div/div[2]/div/div/div[2]/div/div/div[1]/div/div/input')\n",
    "search_bar.click()\n",
    "sleep(3)\n",
    "search_bar.send_keys(\"flipzon_2021\")\n",
    "sleep(10)\n",
    "first_search_res = browser.find_element('xpath', '/html/body/div[2]/div/div/div[2]/div/div/div[1]/div[1]/div[1]/div/div/div[2]/div/div/div[2]/div/div/div[2]/div/a[1]/div[1]/div/div')\n",
    "first_search_res.click()\n",
    "sleep(10)"
   ]
  },
  {
   "cell_type": "code",
   "execution_count": 120,
   "metadata": {},
   "outputs": [],
   "source": [
    "following_btn = browser.find_element('xpath', '/html/body/div[2]/div/div/div[2]/div/div/div[1]/div[1]/div[2]/div[2]/section/main/div/header/section/ul/li[3]/a')"
   ]
  },
  {
   "cell_type": "code",
   "execution_count": 121,
   "metadata": {},
   "outputs": [],
   "source": [
    "following_btn.click()"
   ]
  },
  {
   "cell_type": "code",
   "execution_count": 123,
   "metadata": {},
   "outputs": [],
   "source": [
    "scroll_box = browser.find_element('xpath', '/html/body/div[7]/div[1]/div/div[2]/div/div/div/div/div[2]/div/div/div[4]')"
   ]
  },
  {
   "cell_type": "code",
   "execution_count": 124,
   "metadata": {},
   "outputs": [],
   "source": [
    "scroll_box.click()"
   ]
  },
  {
   "cell_type": "code",
   "execution_count": 126,
   "metadata": {},
   "outputs": [
    {
     "name": "stdout",
     "output_type": "stream",
     "text": [
      "{'winniz_vlogz', 'devil_4164_', 'ii.smit_kkc_ii', 'palwinder_ii', 'video_production_school', 'shree_shakti_construction', 'javascript_interviewprep', 'yuvi_solanki197', 'suhamalirami', 'win_yu82003', '_paradise_traders', 'timferriss', 'jayeshsolanki5527', 'rkgamers2021', 'thegrowinginvestor', 'gajjudesi', 'ohheysyd_ney', 'bhaturawrld', 'sajalgoell', 'neha_____queen_____145', 'nutritionist_karim__005', 'thegreatkhali', 'the_crown_shop_tm', 'See All Suggestions', 'warrenbuffettquote', 'kartikaaryan', 'm.d.gediya', 'jasmine_leal97', 'cbum', '__writers_space__', 'suman_suther474', 'gediyamahendra', 'get.strong__', 'gujju.fitness', 'honey.197_', 'parmar_diya_25', 'surajwin007', 'komal_hand_writing005', 'call_me__akshaya_143_', 'shadman_shadyyy', 'sohilbathavar', 'sohil_bathwar'}\n"
     ]
    }
   ],
   "source": [
    "last_height, cur_height = 0, 1\n",
    "acc_following = set()\n",
    "while last_height != cur_height:\n",
    "    last_height = cur_height\n",
    "    sleep(0.5) \n",
    "    cur_height = browser.execute_script(\"\"\"\n",
    "    arguments[0].scrollTop = arguments[0].scrollHeight;\n",
    "    return arguments[0].scrollHeight;\n",
    "    \"\"\", scroll_box)\n",
    "    new_links = scroll_box.find_elements(By.TAG_NAME, 'a')\n",
    "    acc_following.update(link.text for link in new_links if link.text != '')\n",
    "print(acc_following)"
   ]
  },
  {
   "cell_type": "code",
   "execution_count": 127,
   "metadata": {},
   "outputs": [],
   "source": [
    "close_following_scroll_box_btn = browser.find_element('xpath', '/html/body/div[7]/div[1]/div/div[2]/div/div/div/div/div[2]/div/div/div[1]/div/div[3]/div/button')"
   ]
  },
  {
   "cell_type": "code",
   "execution_count": 128,
   "metadata": {},
   "outputs": [],
   "source": [
    "close_following_scroll_box_btn.click()"
   ]
  },
  {
   "cell_type": "code",
   "execution_count": 129,
   "metadata": {},
   "outputs": [],
   "source": [
    "followers_btn = browser.find_element('xpath', '/html/body/div[2]/div/div/div[2]/div/div/div[1]/div[1]/div[2]/div[2]/section/main/div/header/section/ul/li[2]/a')"
   ]
  },
  {
   "cell_type": "code",
   "execution_count": 130,
   "metadata": {},
   "outputs": [],
   "source": [
    "followers_btn.click()"
   ]
  },
  {
   "cell_type": "code",
   "execution_count": 132,
   "metadata": {},
   "outputs": [],
   "source": [
    "followers_scroll_box = browser.find_element('xpath', '/html/body/div[7]/div[1]/div/div[2]/div/div/div/div/div[2]/div/div/div[3]')"
   ]
  },
  {
   "cell_type": "code",
   "execution_count": null,
   "metadata": {},
   "outputs": [],
   "source": [
    "# followers_scroll_box.click()"
   ]
  },
  {
   "cell_type": "code",
   "execution_count": 133,
   "metadata": {},
   "outputs": [
    {
     "name": "stdout",
     "output_type": "stream",
     "text": [
      "{'winniz_vlogz', 'devil_4164_', 'ii.smit_kkc_ii', 'palwinder_ii', 'shree_shakti_construction', 'javascript_interviewprep', 'yuvi_solanki197', 'suhamalirami', 'gouravsinghal555', 'win_yu82003', '_paradise_traders', 'gajjudesi', 'jayeshsolanki5527', 'rkgamers2021', 'saladmarket', 'ohheysyd_ney', 'bhaturawrld', 'neha_____queen_____145', 'nutritionist_karim__005', 'jakaboss_alias_korneliosz', 'the_crown_shop_tm', 'See All Suggestions', 'm.d.gediya', '__writers_space__', 'winisolate', 'suman_suther474', 'gediyamahendra', 'get.strong__', 'gujju.fitness', 'mama.likes.this', 'honey.197_', 'parmar_diya_25', 'surajwin007', 'komal_hand_writing005', 'call_me__akshaya_143_', 'sohilbathavar', 'sohil_bathwar'}\n"
     ]
    }
   ],
   "source": [
    "last_height, cur_height =0, 1\n",
    "acc_followers = set()\n",
    "while last_height != cur_height:\n",
    "    last_height = cur_height\n",
    "    sleep(0.5) \n",
    "    cur_height = browser.execute_script(\"\"\"\n",
    "    arguments[0].scrollTop = arguments[0].scrollHeight;\n",
    "    return arguments[0].scrollHeight;\n",
    "    \"\"\", followers_scroll_box)\n",
    "    new_links = followers_scroll_box.find_elements(By.TAG_NAME, 'a')\n",
    "    acc_followers.update(link.text for link in new_links if link.text != '')\n",
    "print(acc_followers)"
   ]
  },
  {
   "cell_type": "code",
   "execution_count": 134,
   "metadata": {},
   "outputs": [],
   "source": [
    "acc_not_following_back = acc_following - acc_followers"
   ]
  },
  {
   "cell_type": "code",
   "execution_count": 135,
   "metadata": {},
   "outputs": [
    {
     "data": {
      "text/plain": [
       "{'cbum',\n",
       " 'jasmine_leal97',\n",
       " 'kartikaaryan',\n",
       " 'sajalgoell',\n",
       " 'shadman_shadyyy',\n",
       " 'thegreatkhali',\n",
       " 'thegrowinginvestor',\n",
       " 'timferriss',\n",
       " 'video_production_school',\n",
       " 'warrenbuffettquote'}"
      ]
     },
     "execution_count": 135,
     "metadata": {},
     "output_type": "execute_result"
    }
   ],
   "source": [
    "acc_not_following_back"
   ]
  }
 ],
 "metadata": {
  "kernelspec": {
   "display_name": "env",
   "language": "python",
   "name": "python3"
  },
  "language_info": {
   "codemirror_mode": {
    "name": "ipython",
    "version": 3
   },
   "file_extension": ".py",
   "mimetype": "text/x-python",
   "name": "python",
   "nbconvert_exporter": "python",
   "pygments_lexer": "ipython3",
   "version": "3.9.4"
  }
 },
 "nbformat": 4,
 "nbformat_minor": 2
}
